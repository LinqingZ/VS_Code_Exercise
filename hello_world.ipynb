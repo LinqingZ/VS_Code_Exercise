{
 "cells": [
  {
   "cell_type": "code",
   "execution_count": 1,
   "metadata": {},
   "outputs": [
    {
     "name": "stdout",
     "output_type": "stream",
     "text": [
      "Hello World! I am running this from VS Code!\n"
     ]
    }
   ],
   "source": [
    "print(\"Hello World! I am running this from VS Code!\")"
   ]
  }
 ],
 "metadata": {
  "interpreter": {
   "hash": "9386cb60cf22cf10c4a4b8d8aaf5613a1e19924e3b8b77c246876dc6579ff7fe"
  },
  "kernelspec": {
   "display_name": "Python 3.9.5 64-bit",
   "name": "python3"
  },
  "language_info": {
   "codemirror_mode": {
    "name": "ipython",
    "version": 3
   },
   "file_extension": ".py",
   "mimetype": "text/x-python",
   "name": "python",
   "nbconvert_exporter": "python",
   "pygments_lexer": "ipython3",
   "version": "3.9.5"
  },
  "orig_nbformat": 4
 },
 "nbformat": 4,
 "nbformat_minor": 2
}
